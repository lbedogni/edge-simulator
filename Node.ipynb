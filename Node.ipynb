{
 "cells": [
  {
   "cell_type": "code",
   "execution_count": 2,
   "id": "c81f31b1",
   "metadata": {},
   "outputs": [],
   "source": [
    "class Node:\n",
    "    computation_power = 1 # FLOP\n",
    "    Q = []\n",
    "    current_job = None\n",
    "    \n",
    "    def checkJobFinished(J):\n",
    "        if J.remaining <= 0:\n",
    "            current_job = None\n",
    "            # TODO Need to signal to the job owner\n",
    "            return True\n",
    "        return False\n",
    "    \n",
    "    def execute():\n",
    "        if current_job != None:\n",
    "            current_job.remaining -= computation_power\n",
    "                        \n",
    "        elif len(Q) > 0:\n",
    "            current_job = Q[0]\n",
    "            Q = Q[1:]\n",
    "            current_job.remaining -= computation_power\n",
    "        \n",
    "        checkJobFinished(current_job)"
   ]
  },
  {
   "cell_type": "code",
   "execution_count": null,
   "id": "2f2b5ef2",
   "metadata": {},
   "outputs": [],
   "source": []
  }
 ],
 "metadata": {
  "kernelspec": {
   "display_name": "Python 3",
   "language": "python",
   "name": "python3"
  },
  "language_info": {
   "codemirror_mode": {
    "name": "ipython",
    "version": 3
   },
   "file_extension": ".py",
   "mimetype": "text/x-python",
   "name": "python",
   "nbconvert_exporter": "python",
   "pygments_lexer": "ipython3",
   "version": "3.9.4"
  }
 },
 "nbformat": 4,
 "nbformat_minor": 5
}
